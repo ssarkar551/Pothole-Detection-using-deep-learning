{
  "nbformat": 4,
  "nbformat_minor": 0,
  "metadata": {
    "colab": {
      "name": "Potholes.ipynb",
      "provenance": [],
      "include_colab_link": true
    },
    "kernelspec": {
      "name": "python3",
      "display_name": "Python 3"
    },
    "accelerator": "GPU"
  },
  "cells": [
    {
      "cell_type": "markdown",
      "metadata": {
        "id": "view-in-github",
        "colab_type": "text"
      },
      "source": [
        "<a href=\"https://colab.research.google.com/github/ssarkar551/Pothole-Detection-using-deep-learning/blob/main/Potholes.ipynb\" target=\"_parent\"><img src=\"https://colab.research.google.com/assets/colab-badge.svg\" alt=\"Open In Colab\"/></a>"
      ]
    },
    {
      "cell_type": "markdown",
      "metadata": {
        "id": "Hr8gZpy2bBnV"
      },
      "source": [
        "\n",
        "\n",
        "*   Import zipfile to extract zip folder files\n",
        "*   Import os to use operating system commands\n",
        "\n"
      ]
    },
    {
      "cell_type": "code",
      "metadata": {
        "id": "Oq0eoTL-tuUN"
      },
      "source": [
        "import os\n",
        "import zipfile"
      ],
      "execution_count": null,
      "outputs": []
    },
    {
      "cell_type": "markdown",
      "metadata": {
        "id": "7Os5GovXaoQB"
      },
      "source": [
        "Upload your Kaggle configuration key\n"
      ]
    },
    {
      "cell_type": "code",
      "metadata": {
        "id": "tMz-htGOuQfr"
      },
      "source": [
        "from google.colab import files\n",
        "files.upload()"
      ],
      "execution_count": null,
      "outputs": []
    },
    {
      "cell_type": "code",
      "metadata": {
        "id": "tI56mKkguWwe"
      },
      "source": [
        "!mkdir -p ~/.kaggle\n",
        "!cp kaggle.json ~/.kaggle\n",
        "!chmod 600 ~/.kaggle/kaggle.json"
      ],
      "execution_count": null,
      "outputs": []
    },
    {
      "cell_type": "markdown",
      "metadata": {
        "id": "2l3bamFAbTna"
      },
      "source": [
        "Download the kaggle potholes dataset"
      ]
    },
    {
      "cell_type": "code",
      "metadata": {
        "id": "iTLXFeo4vRJS"
      },
      "source": [
        "!kaggle datasets download -d atulyakumar98/pothole-detection-dataset"
      ],
      "execution_count": null,
      "outputs": []
    },
    {
      "cell_type": "markdown",
      "metadata": {
        "id": "IUkMOV_gb2ag"
      },
      "source": [
        "The next few codeblocks are used to create folders for different images and categorizing them into their defined folders"
      ]
    },
    {
      "cell_type": "code",
      "metadata": {
        "id": "LdpWCUJQvZXX"
      },
      "source": [
        "local_zip=\"/content/pothole-detection-dataset.zip\"\n",
        "zip_ref=zipfile.ZipFile(local_zip,'r')\n",
        "zip_ref.extractall(\"/content\")\n",
        "zip_ref.close()"
      ],
      "execution_count": null,
      "outputs": []
    },
    {
      "cell_type": "code",
      "metadata": {
        "id": "dFbFH21QxVgc"
      },
      "source": [
        "os.mkdir(\"/content/train\")"
      ],
      "execution_count": null,
      "outputs": []
    },
    {
      "cell_type": "code",
      "metadata": {
        "id": "8SAqcAaxxxns"
      },
      "source": [
        "!cp normal ~/.train\n",
        "!chmod 600 ~/.train/normal"
      ],
      "execution_count": null,
      "outputs": []
    },
    {
      "cell_type": "code",
      "metadata": {
        "id": "lLQSKIQHyCGx"
      },
      "source": [
        "train_normal_dir=\"/content/normal\"\n",
        "train_pothole_dir=\"/content/potholes\""
      ],
      "execution_count": null,
      "outputs": []
    },
    {
      "cell_type": "code",
      "metadata": {
        "id": "BwpfdJfp13r0"
      },
      "source": [
        "import shutil\n",
        "shutil.move(\"/content/normal\",\"/content/train\")"
      ],
      "execution_count": null,
      "outputs": []
    },
    {
      "cell_type": "code",
      "metadata": {
        "id": "IC6b0iH12tPm"
      },
      "source": [
        "shutil.move(\"/content/potholes\",\"/content/train\")"
      ],
      "execution_count": null,
      "outputs": []
    },
    {
      "cell_type": "code",
      "metadata": {
        "id": "VdSN_-9-3BBG"
      },
      "source": [
        "pothole_name=os.listdir(\"/content/train/potholes\")\n",
        "normal_name=os.listdir(\"/content/train/normal\")\n",
        "train_dir=\"/content/train\""
      ],
      "execution_count": null,
      "outputs": []
    },
    {
      "cell_type": "code",
      "metadata": {
        "id": "xrN6swnU38rJ"
      },
      "source": [
        "import tensorflow as tf"
      ],
      "execution_count": null,
      "outputs": []
    },
    {
      "cell_type": "markdown",
      "metadata": {
        "id": "YjoEqRQkbxys"
      },
      "source": [
        "Building the model"
      ]
    },
    {
      "cell_type": "code",
      "metadata": {
        "id": "ruwd7PDyAKbv"
      },
      "source": [
        "model=tf.keras.models.Sequential([\n",
        "                                  tf.keras.layers.Conv2D(16,(3,3),activation='relu',input_shape=(150,150,3)),\n",
        "                                  tf.keras.layers.MaxPool2D(2,2),\n",
        "                                  tf.keras.layers.Conv2D(32,(3,3),activation='relu'),\n",
        "                                  tf.keras.layers.MaxPool2D(2,2),\n",
        "                                  tf.keras.layers.Conv2D(64,(3,3),activation='relu'),\n",
        "                                  tf.keras.layers.MaxPooling2D(2,2),\n",
        "                                  tf.keras.layers.Flatten(),\n",
        "                                  tf.keras.layers.Dense(512,activation='relu'),\n",
        "                                  tf.keras.layers.Dense(1,activation='sigmoid')\n",
        "])"
      ],
      "execution_count": null,
      "outputs": []
    },
    {
      "cell_type": "code",
      "metadata": {
        "id": "63MU4IsDCBkU"
      },
      "source": [
        "model.summary()"
      ],
      "execution_count": null,
      "outputs": []
    },
    {
      "cell_type": "code",
      "metadata": {
        "id": "liGNKt5dCMvV"
      },
      "source": [
        "from tensorflow.keras.optimizers import RMSprop\n",
        "\n",
        "model.compile(optimizer=RMSprop(lr=0.001),\n",
        "              loss='binary_crossentropy',\n",
        "              metrics=['acc'])"
      ],
      "execution_count": null,
      "outputs": []
    },
    {
      "cell_type": "code",
      "metadata": {
        "id": "Q0ATrYG7C4WO"
      },
      "source": [
        "from tensorflow.keras.preprocessing.image import ImageDataGenerator\n",
        "\n",
        "train_datagen=ImageDataGenerator(\n",
        "    rescale=1./255,\n",
        "    width_shift_range=0.2,\n",
        "    height_shift_range=0.2,\n",
        "    rotation_range=40,\n",
        "    zoom_range=0.2,\n",
        "    horizontal_flip=True,\n",
        "    shear_range=0.2,\n",
        "    fill_mode='nearest'\n",
        ")"
      ],
      "execution_count": null,
      "outputs": []
    },
    {
      "cell_type": "code",
      "metadata": {
        "id": "6TjpaeQxEdRR"
      },
      "source": [
        "train_generator=train_datagen.flow_from_directory(train_dir,\n",
        "                                                  target_size=(150,150),\n",
        "                                                  class_mode='binary',\n",
        "                                                  batch_size=20,\n",
        "                                                  shuffle=True)"
      ],
      "execution_count": null,
      "outputs": []
    },
    {
      "cell_type": "code",
      "metadata": {
        "id": "FcsgbI9_E4wD"
      },
      "source": [
        "history=model.fit_generator(generator=train_generator,\n",
        "                            steps_per_epoch=100,\n",
        "                            epochs=25,\n",
        "                            verbose=2)"
      ],
      "execution_count": null,
      "outputs": []
    },
    {
      "cell_type": "markdown",
      "metadata": {
        "id": "fnzJOIj1borx"
      },
      "source": [
        "Plot the training accuracy vs loss graphs"
      ]
    },
    {
      "cell_type": "code",
      "metadata": {
        "id": "v5HtHGccF7DN"
      },
      "source": [
        "import matplotlib.pyplot as plt\n",
        "acc=history.history['acc']\n",
        "loss=history.history['loss']\n",
        "epochs=range(len(acc))\n",
        "plt.plot(acc,epochs,'r',label='Training accuracy')\n",
        "plt.plot(loss,epochs,'b',label='Training loss')\n",
        "plt.title(\"Training accuracy vs loss\")\n",
        "plt.legend()\n",
        "plt.figure()\n",
        "plt.show()\n"
      ],
      "execution_count": null,
      "outputs": []
    },
    {
      "cell_type": "markdown",
      "metadata": {
        "id": "EGTbUo6fbflk"
      },
      "source": [
        "This codeblock is used to upload any image of a road manually to detect potholes"
      ]
    },
    {
      "cell_type": "code",
      "metadata": {
        "id": "To5Q_mi8KY1X"
      },
      "source": [
        "import numpy as np\n",
        "from google.colab import files\n",
        "from keras.preprocessing import image\n",
        "\n",
        "uploaded = files.upload()\n",
        "\n",
        "for fn in uploaded.keys():\n",
        " \n",
        "  # predicting images\n",
        "  path = fn\n",
        "  img = image.load_img(path, target_size=(150, 150))\n",
        "  x = image.img_to_array(img)\n",
        "  x = np.expand_dims(x, axis=0)\n",
        "\n",
        "  images = np.vstack([x])\n",
        "  classes = model.predict(images, batch_size=10)\n",
        "  print(fn)\n",
        "  print(classes)"
      ],
      "execution_count": null,
      "outputs": []
    },
    {
      "cell_type": "code",
      "metadata": {
        "id": "NECWFvuuLZ_F"
      },
      "source": [
        ""
      ],
      "execution_count": null,
      "outputs": []
    }
  ]
}